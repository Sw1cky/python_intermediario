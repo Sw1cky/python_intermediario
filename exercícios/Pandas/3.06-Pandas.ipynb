{
 "cells": [
  {
   "cell_type": "markdown",
   "metadata": {},
   "source": [
    "> Projeto Desenvolve <br>\n",
    "Programação Intermediária com Python <br>\n",
    "Profa. Camila Laranjeira (mila@projetodesenvolve.com.br) <br>\n",
    "\n",
    "# 3.6 - Pandas"
   ]
  },
  {
   "cell_type": "markdown",
   "metadata": {},
   "source": [
    "## Exercícios\n",
    "Antes de continuar, baixe os arquivos das bases de dados de partidas em Copas do Mundo e salve na mesma pasta deste notebook.\n",
    "* https://raw.githubusercontent.com/camilalaranjeira/python-intermediario/main/fifa-wc/matches_1930_2022.csv\n",
    "* https://raw.githubusercontent.com/camilalaranjeira/python-intermediario/main/fifa-wc/matches_1991_2023.csv\n",
    "\n",
    "A célula a seguir já carrega os dados em CSV e ajusta as colunas para trabalharmos com os nomes traduzidos (como fizemos em aula)."
   ]
  },
  {
   "cell_type": "code",
   "execution_count": null,
   "metadata": {},
   "outputs": [],
   "source": [
    "import pandas as pd\n",
    "pd.set_option('display.max_columns',None)\n",
    "pd.set_option('display.max_rows',12)\n",
    "\n",
    "wcwomen_df = pd.read_csv('matches_1991_2023.csv')\n",
    "wcmen_df   = pd.read_csv('matches_1930_2022.csv')\n",
    "wc = pd.concat((wcwomen_df,wcmen_df)).reset_index()\n",
    "\n",
    "nomes_traduzidos = {'home_team': 'time_1', 'away_team': 'time_2', 'home_score': 'gols_1', 'away_score': 'gols_2',\n",
    "                    'Date': 'data', 'Year': 'ano', 'Host': 'país_sede', 'Attendance': 'comparecimento',\n",
    "                    'Score': 'resultado', 'Round': 'rodada', 'home_goal': 'gols_1_detalhes', 'away_goal': 'gols_2_detalhes',\n",
    "                    'home_own_goal': 'gols_1_contra', 'away_own_goal': 'gols_2_contra',\n",
    "                    'home_penalty_goal': 'gols_1_penalti', 'away_penalty_goal': 'gols_2_penalti',\n",
    "                    'home_red_card': 'cartao_vermelho_1', 'away_red_card': 'cartao_vermelho_2',\n",
    "                    'home_yellow_card_long': 'cartao_amarelo_1', 'away_yellow_card_long': 'cartao_amarelo_2'}\n",
    "\n",
    "wc = wc.loc[:, nomes_traduzidos.keys()]\n",
    "wc.columns = nomes_traduzidos.values()\n",
    "\n",
    "copa = wc['ano'].apply( lambda x: 'Masculina' if x % 2 == 0 else 'Feminina').astype('string')\n",
    "wc['copa'] = copa\n",
    "display(wc)"
   ]
  },
  {
   "cell_type": "markdown",
   "metadata": {},
   "source": [
    "#### Q1.\n",
    "Faça as conversões de tipo necessárias para que a saída do comando `wc.info()` seja como apresentado a seguir. E **salve o novo dataframe** com o comando `df.to_csv('wc_formatado.csv')`.\n",
    "\n",
    "```\n",
    "Data columns (total 21 columns):\n",
    " #   Column             Non-Null Count  Dtype         \n",
    "---  ------             --------------  -----         \n",
    " 0   time_1             1312 non-null   string        \n",
    " 1   time_2             1312 non-null   string        \n",
    " 2   gols_1             1312 non-null   int64         \n",
    " 3   gols_2             1312 non-null   int64         \n",
    " 4   data               1312 non-null   datetime64[ns]\n",
    " 5   ano                1312 non-null   int64         \n",
    " 6   país_sede          1312 non-null   string        \n",
    " 7   comparecimento     1312 non-null   int64         \n",
    " 8   resultado          1312 non-null   string        \n",
    " 9   rodada             1312 non-null   category      \n",
    " 10  gols_1_detalhes    970 non-null    string        \n",
    " 11  gols_2_detalhes    771 non-null    string        \n",
    " 12  gols_1_contra      57 non-null     string        \n",
    " 13  gols_2_contra      30 non-null     string        \n",
    " 14  gols_1_penalti     170 non-null    string        \n",
    " 15  gols_2_penalti     119 non-null    string        \n",
    " 16  cartao_vermelho_1  59 non-null     string        \n",
    " 17  cartao_vermelho_2  65 non-null     string        \n",
    " 18  cartao_amarelo_1   834 non-null    string        \n",
    " 19  cartao_amarelo_2   857 non-null    string        \n",
    " 20  copa               1312 non-null   string \n",
    "```"
   ]
  },
  {
   "cell_type": "code",
   "execution_count": null,
   "metadata": {},
   "outputs": [],
   "source": [
    "import pandas as pd\n",
    "\n",
    "wcwomen_df = pd.read_csv('matches_1991_2023.csv')\n",
    "wcmen_df = pd.read_csv('matches_1930_2022.csv')\n",
    "\n",
    "wc['time_1'] = wc['time_1'].astype('string')\n",
    "wc['time_2'] = wc['time_2'].astype('string')\n",
    "wc['gols_1'] = wc['gols_1'].astype('int64')\n",
    "wc['gols_2'] = wc['gols_2'].astype('int64')\n",
    "wc['data'] = pd.to_datetime(wc['data'])\n",
    "wc['ano'] = wc['ano'].astype('int64')\n",
    "wc['país_sede'] = wc['país_sede'].astype('string')\n",
    "wc['comparecimento'] = wc['comparecimento'].astype('int64')\n",
    "wc['resultado'] = wc['resultado'].astype('string')\n",
    "wc['rodada'] = wc['rodada'].astype('category')\n",
    "wc['gols_1_detalhes'] = wc['gols_1_detalhes'].astype('string')\n",
    "wc['gols_2_detalhes'] = wc['gols_2_detalhes'].astype('string')\n",
    "wc['gols_1_contra'] = wc['gols_1_contra'].astype('string')\n",
    "wc['gols_2_contra'] = wc['gols_2_contra'].astype('string')\n",
    "wc['gols_1_penalti'] = wc['gols_1_penalti'].astype('string')\n",
    "wc['gols_2_penalti'] = wc['gols_2_penalti'].astype('string')\n",
    "wc['cartao_vermelho_1'] = wc['cartao_vermelho_1'].astype('string')\n",
    "wc['cartao_vermelho_2'] = wc['cartao_vermelho_2'].astype('string')\n",
    "wc['cartao_amarelo_1'] = wc['cartao_amarelo_1'].astype('string')\n",
    "wc['cartao_amarelo_2'] = wc['cartao_amarelo_2'].astype('string')\n",
    "wc['copa'] = wc['copa'].astype('string')\n",
    "\n",
    "wc.to_csv('wc_formatado.csv', index=False)\n",
    "\n",
    "\n",
    "wc.info()\n",
    "\n"
   ]
  },
  {
   "cell_type": "markdown",
   "metadata": {},
   "source": [
    "#### Q2.\n",
    "Apresente a linha do dataframe `wc` que corresponde ao jogo com maior audiência da história."
   ]
  },
  {
   "cell_type": "code",
   "execution_count": null,
   "metadata": {},
   "outputs": [],
   "source": [
    "jogo_maior_audiencia = wc.loc[wc['comparecimento'].idxmax()]\n",
    "\n",
    "print(jogo_maior_audiencia)\n"
   ]
  },
  {
   "cell_type": "markdown",
   "metadata": {},
   "source": [
    "#### Q3.\n",
    "Aplicando operações sobre as colunas `ano` e `copa` do dataframe `wc`, apresente quantas copas femininas e quantas copas masculinas já aconteceram na história.\n",
    "\n",
    "Exemplo de saída (valores inventados):\n",
    "```\n",
    "Masculina: 22\n",
    "Feminina: 9\n",
    "```"
   ]
  },
  {
   "cell_type": "code",
   "execution_count": null,
   "metadata": {},
   "outputs": [],
   "source": [
    "contagem_copas = wc.groupby('copa')['ano'].nunique()\n",
    "\n",
    "print(f\"Masculina: {contagem_copas['Masculina']}\")\n",
    "print(f\"Feminina: {contagem_copas['Feminina']}\")\n"
   ]
  },
  {
   "cell_type": "markdown",
   "metadata": {},
   "source": [
    "#### Q3. \n",
    "Crie um dataframe `participacao` com as colunas `país`, `copa`, e `num_copas` que armazena a quantidade de copas do mundo que cada país participou, informando se é da copa masculina ou feminina. Ao final imprima, como apresentado a seguir, o top 5 países de cada competição que mais participou de copas do mundo.\n",
    "\n",
    "Exemplo de saída (valores inventados):\n",
    "```\n",
    "país            copa        num_copas\n",
    "Brazil          Feminina    8\n",
    "Unites States   Feminina    8\n",
    "Germany         Feminina    8\n",
    "Japan           Feminina    7\n",
    "Colombia        Feminina    7\n",
    "```\n",
    "\n",
    "```\n",
    "país            copa        num_copas\n",
    "Brazil          Masculina   21\n",
    "Germany         Masculina   21\n",
    "Argentina       Masculina   20\n",
    "England         Masculina   20\n",
    "Mexico          Masculina   20\n",
    "```"
   ]
  },
  {
   "cell_type": "code",
   "execution_count": null,
   "metadata": {},
   "outputs": [],
   "source": [
    "participacao = wc.groupby(['país_sede', 'copa']).size().reset_index(name='num_copas')\n",
    "\n",
    "top_5_feminina = participacao[participacao['copa'] == 'Feminina'].sort_values(by='num_copas', ascending=False).head(5)\n",
    "top_5_masculina = participacao[participacao['copa'] == 'Masculina'].sort_values(by='num_copas', ascending=False).head(5)\n",
    "\n",
    "print(\"Top 5 países que mais participaram de Copas Femininas:\")\n",
    "print(top_5_feminina[['país_sede', 'copa', 'num_copas']])\n",
    "\n",
    "print(\"\\nTop 5 países que mais participaram de Copas Masculinas:\")\n",
    "print(top_5_masculina[['país_sede', 'copa', 'num_copas']])\n"
   ]
  },
  {
   "cell_type": "markdown",
   "metadata": {},
   "source": [
    "#### Q4. \n",
    "* Crie um dataframe `gols` com duas colunas `país` e `total_gols` com o total de gols marcados por cada país durante todas as copas do mundo, juntando gols em casa (`gols_1`) e gols como time visitante (`gols_2`).\n",
    "* Imprima o dataframe `gols` ordenado de forma decrescente, para que os times com mais gols fiquem no topo.\n",
    "\n",
    "Segue um exemplo ilustrativo com o formato do dataframe resultado:\n",
    "\n",
    "```\n",
    "país        total_gols\n",
    "Brazil      120\n",
    "Argentina   112\n",
    "Germany     107\n",
    "...\n",
    "```"
   ]
  },
  {
   "cell_type": "code",
   "execution_count": null,
   "metadata": {},
   "outputs": [],
   "source": [
    "gols = wc.groupby('país_sede').apply(lambda x: x['gols_1'].sum() + x['gols_2'].sum()).reset_index(name='total_gols')\n",
    "\n",
    "gols = gols.sort_values(by='total_gols', ascending=False)\n",
    "\n",
    "print(gols)\n"
   ]
  },
  {
   "cell_type": "markdown",
   "metadata": {},
   "source": [
    "#### Q5. \n",
    "Qual país tomou mais cartões amarelos somando todas as copas?\n",
    "\n",
    "Neste exercício você vai trabalhar com as colunas `cartao_amarelo_1` e `cartao_amarelo_2` onde cada observação é uma string represetando uma lista dos cartões amarelos de um único jogo na forma `minuto|placar|jogador(a)`. Por exemplo:\n",
    "```\n",
    "['16’|1:0|Rosana Gómez', '20’|2:0|Gabriela Chávez]\n",
    "```\n",
    "\n",
    "Recomendo criar colunas `num_cartoes_1` e `num_cartoes_2` a partir de cada coluna `cartao_amarelo_X` usando o método genérico `apply` para chamar uma função que você vai criar para transformar uma observação de cartão amarelo em uma contagem de elementos da lista. \n",
    "\n",
    "Lembre de levar em consideração que muitas observações são `NaN`. \n",
    "\n",
    "Em seguida faça sua mágica para agrupar as informações por país, acumular os cartões de jogos em casa e jogos visitante, e produzir o resultado final como apresentado a seguir (valores inventados):\n",
    "\n",
    "```\n",
    "país        cartões amarelos\n",
    "Argentina   97\n",
    "England     93\n",
    "Australia   93\n",
    "...\n",
    "```"
   ]
  },
  {
   "cell_type": "code",
   "execution_count": null,
   "metadata": {},
   "outputs": [],
   "source": [
    "def contar_cartoes(cartao_list):\n",
    "    if pd.isna(cartao_list): \n",
    "        return 0\n",
    "    else:\n",
    "\n",
    "        return len(cartao_list.split(', '))\n",
    "\n",
    "wc['num_cartoes_1'] = wc['cartao_amarelo_1'].apply(contar_cartoes)\n",
    "wc['num_cartoes_2'] = wc['cartao_amarelo_2'].apply(contar_cartoes)\n",
    "\n",
    "wc['total_cartoes'] = wc['num_cartoes_1'] + wc['num_cartoes_2']\n",
    "\n",
    "cartoes_por_pais = wc.groupby('país_sede')['total_cartoes'].sum().reset_index()\n",
    "\n",
    "cartoes_por_pais = cartoes_por_pais.sort_values(by='total_cartoes', ascending=False)\n",
    "\n",
    "print(cartoes_por_pais[['país_sede', 'total_cartoes']])\n"
   ]
  },
  {
   "cell_type": "markdown",
   "metadata": {},
   "source": [
    "#### Q6.\n",
    "Qual o top10 jogadores com mais gols em copa? Considere gols em jogo e gols de pênalti.\n",
    "\n",
    "Para conseguir essa informação, você precisará trabalhar com as colunas:\n",
    "```\n",
    "10  gols_1_detalhes         \n",
    "11  gols_2_detalhes    \n",
    "14  gols_1_penalti     \n",
    "15  gols_2_penalti     \n",
    "```\n",
    "\n",
    "Essas também são colunas textuais, onde cada observações apresenta todos os gols de uma partida separados pelo caracter `|`. Cada gol está na forma `'Jogador(a) · minuto’'`. Por exemplo:\n",
    "```\n",
    "'Alex Morgan · 12’|Rose Lavelle · 20’'\n",
    "```\n",
    "\n",
    "Lembre de levar em consideração que muitas observações são `NaN`. \n",
    "\n",
    "Recomendo criar um dicionário à parte, onde cada chave será um jogador encontrado nessas colunas do dataframe `wc` e o valor correspondente será a contagem de ocorrências desses nomes.\n",
    "\n",
    "Em seguida basta converter o seu dicionário em um dataframe e imprimí-lo na forma (valores não são inventados 😁):\n",
    "```\n",
    "jogador(a)      num_gols \n",
    "Marta           17\n",
    "Miroslav Klose  16\n",
    "... \n",
    "```"
   ]
  },
  {
   "cell_type": "code",
   "execution_count": null,
   "metadata": {},
   "outputs": [],
   "source": [
    "import re\n",
    "from collections import defaultdict\n",
    "\n",
    "def contar_gols(gols_coluna):\n",
    "    jogadores = defaultdict(int)  \n",
    "    if pd.notna(gols_coluna):  \n",
    "    \n",
    "        for gol in gols_coluna.split('|'):\n",
    "            \n",
    "            match = re.match(r\"([a-zA-Z\\s]+)\\s·\", gol)\n",
    "            if match:\n",
    "                jogador = match.group(1).strip()\n",
    "                jogadores[jogador] += 1\n",
    "    return jogadores\n",
    "\n",
    "gols_total = defaultdict(int)\n",
    "\n",
    "for coluna in ['gols_1_detalhes', 'gols_2_detalhes', 'gols_1_penalti', 'gols_2_penalti']:\n",
    "    wc[coluna].apply(lambda x: contar_gols(x)).apply(lambda x: [gols_total.update(x)])\n",
    "\n",
    "gols_df = pd.DataFrame(list(gols_total.items()), columns=['jogador(a)', 'num_gols'])\n",
    "\n",
    "gols_df = gols_df.sort_values(by='num_gols', ascending=False)\n",
    "\n",
    "print(gols_df.head(10))\n"
   ]
  }
 ],
 "metadata": {
  "language_info": {
   "name": "python"
  }
 },
 "nbformat": 4,
 "nbformat_minor": 2
}
